{
  "metadata": {
    "language_info": {
      "codemirror_mode": {
        "name": "python",
        "version": 3
      },
      "file_extension": ".py",
      "mimetype": "text/x-python",
      "name": "python",
      "nbconvert_exporter": "python",
      "pygments_lexer": "ipython3",
      "version": "3.8"
    },
    "kernelspec": {
      "name": "python",
      "display_name": "Python (Pyodide)",
      "language": "python"
    }
  },
  "nbformat_minor": 4,
  "nbformat": 4,
  "cells": [
    {
      "cell_type": "markdown",
      "source": "# My Notebook",
      "metadata": {}
    },
    {
      "cell_type": "markdown",
      "source": "# Introduction",
      "metadata": {}
    },
    {
      "cell_type": "markdown",
      "source": "Data Science Languages:\n* Python\n* R\n* SQL\n* JAVA\n* Julia\n* Scala\n* Matlab\n* SAS\n* Swift",
      "metadata": {}
    },
    {
      "cell_type": "markdown",
      "source": "Following are some of data science libararies:\n* TensorFlow\n* NumPy\n* SciPy \n* Pandas\n* Matplotlib \n* Keras\n* SciKit-Learn\n* PyTorch\n* Scrapy\n* BeautifulSoup\n* LightGBM",
      "metadata": {}
    },
    {
      "cell_type": "markdown",
      "source": "|Tools of Data Science|\n|-----|\n|Jupyter|\n|Matlab|\n|SAS|\n|BigML|\n|Tensor Flow|",
      "metadata": {}
    },
    {
      "cell_type": "markdown",
      "source": "## Arithmetic Expression Examples\nWe will cover the following arithmetic operations:\n1. Addition\n2. Subtraction\n3. Multiplication\n4. Division\n5. Exponentiation\n6. Modulo",
      "metadata": {}
    },
    {
      "cell_type": "markdown",
      "source": "### Addition and Multiplication",
      "metadata": {}
    },
    {
      "cell_type": "code",
      "source": "x = 2\ny = 3\na = (x+y)\nb = (x*y)\nprint(x+y)\nprint(a)\nprint(b)",
      "metadata": {
        "trusted": true
      },
      "execution_count": 5,
      "outputs": [
        {
          "name": "stdout",
          "text": "5\n5\n6\n",
          "output_type": "stream"
        }
      ]
    },
    {
      "cell_type": "markdown",
      "source": "### Min to Hour",
      "metadata": {}
    },
    {
      "cell_type": "code",
      "source": "minutes = 60\nhours = minutes / 60\n\nprint(f\"{minutes} minutes is equal to {hours} hours.\")",
      "metadata": {
        "trusted": true
      },
      "execution_count": 8,
      "outputs": [
        {
          "name": "stdout",
          "text": "60 minutes is equal to 1.0 hours.\n",
          "output_type": "stream"
        }
      ]
    },
    {
      "cell_type": "markdown",
      "source": "### Objectives\n\nIn this Jupyter Notebook, we aim to achieve the following objectives:\n\n1. **Demonstrate Arithmetic Operations** \n2. **Convert Minutes to Hours** \n3. **Explore Python's Arithmetic Capabilities** \n4. **Enhance Understanding**",
      "metadata": {}
    },
    {
      "cell_type": "markdown",
      "source": "## Author\n**Author:** Mahtab Azam\n",
      "metadata": {}
    },
    {
      "cell_type": "code",
      "source": "",
      "metadata": {},
      "execution_count": null,
      "outputs": []
    }
  ]
}